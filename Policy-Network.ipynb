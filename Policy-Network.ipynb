{
 "cells": [
  {
   "cell_type": "markdown",
   "metadata": {},
   "source": [
    "# Reinforcement Learning in Tensorflow Tutorial 2\n",
    "## The Cart-Pole Task\n",
    "\n",
    "Parts of this tutorial are based on code by [Andrej Karpathy](https://gist.github.com/karpathy/a4166c7fe253700972fcbc77e4ea32c5) and [korymath](https://gym.openai.com/evaluations/eval_a0aVJrGSyW892vBM04HQA)."
   ]
  },
  {
   "cell_type": "code",
   "execution_count": 1,
   "metadata": {
    "collapsed": false
   },
   "outputs": [],
   "source": [
    "import numpy as np\n",
    "import cPickle as pickle\n",
    "import tensorflow as tf\n",
    "%matplotlib inline\n",
    "import matplotlib.pyplot as plt\n",
    "import math"
   ]
  },
  {
   "cell_type": "markdown",
   "metadata": {},
   "source": [
    "### Loading the CartPole Environment\n",
    "If you don't already have the OpenAI gym installed, use  `pip install gym` to grab it."
   ]
  },
  {
   "cell_type": "code",
   "execution_count": 2,
   "metadata": {
    "collapsed": false
   },
   "outputs": [
    {
     "name": "stderr",
     "output_type": "stream",
     "text": [
      "INFO:gym.envs.registration:Making new env: CartPole-v0\n",
      "[2016-06-24 12:23:40,820] Making new env: CartPole-v0\n"
     ]
    }
   ],
   "source": [
    "import gym\n",
    "env = gym.make('CartPole-v0')"
   ]
  },
  {
   "cell_type": "markdown",
   "metadata": {},
   "source": [
    "What happens if we try running the environment with random actions? How well do we do? (Hint: not so well.)"
   ]
  },
  {
   "cell_type": "code",
   "execution_count": 3,
   "metadata": {
    "collapsed": false
   },
   "outputs": [
    {
     "name": "stdout",
     "output_type": "stream",
     "text": [
      "Reward for this episode was: 20.0\n",
      "Reward for this episode was: 12.0\n",
      "Reward for this episode was: 10.0\n",
      "Reward for this episode was: 15.0\n",
      "Reward for this episode was: 21.0\n",
      "Reward for this episode was: 12.0\n",
      "Reward for this episode was: 16.0\n",
      "Reward for this episode was: 23.0\n",
      "Reward for this episode was: 20.0\n",
      "Reward for this episode was: 13.0\n"
     ]
    }
   ],
   "source": [
    "env.reset()\n",
    "random_episodes = 0\n",
    "reward_sum = 0\n",
    "while random_episodes < 10:\n",
    "    env.render()\n",
    "    observation, reward, done, _ = env.step(np.random.randint(0,2))\n",
    "    reward_sum += reward\n",
    "    if done:\n",
    "        random_episodes += 1\n",
    "        print \"Reward for this episode was:\",reward_sum\n",
    "        reward_sum = 0\n",
    "        env.reset()"
   ]
  },
  {
   "cell_type": "markdown",
   "metadata": {},
   "source": [
    "The goal of the task is to achieve a reward of 200 per episode. For every step the agent keeps the pole in the air, the agent recieves a +1 reward. By randomly choosing actions, our reward for each episode is only a couple dozen. Let's make that better with RL!"
   ]
  },
  {
   "cell_type": "markdown",
   "metadata": {},
   "source": [
    "### Setting up our Neural Network agent\n",
    "This time we will be using a Policy neural network that takes observations, passes them through a single hidden layer, and then produces a probability of choosing a left/right movement. To learn more about this network, see [Andrej Karpathy's blog on Policy Gradient networks](http://karpathy.github.io/2016/05/31/rl/)."
   ]
  },
  {
   "cell_type": "code",
   "execution_count": 4,
   "metadata": {
    "collapsed": true
   },
   "outputs": [],
   "source": [
    "# hyperparameters\n",
    "H = 10 # number of hidden layer neurons\n",
    "batch_size = 50 # every how many episodes to do a param update?\n",
    "learning_rate = 1e-2 # feel free to play with this to train faster or more stably.\n",
    "gamma = 0.99 # discount factor for reward\n",
    "\n",
    "D = 4 # input dimensionality"
   ]
  },
  {
   "cell_type": "code",
   "execution_count": 5,
   "metadata": {
    "collapsed": false
   },
   "outputs": [],
   "source": [
    "tf.reset_default_graph()\n",
    "\n",
    "#This defines the network as it goes from taking an observation of the environment to \n",
    "#giving a probability of chosing to the action of moving left or right.\n",
    "observations = tf.placeholder(tf.float32, [None,D] , name=\"input_x\")\n",
    "W1 = tf.get_variable(\"W1\", shape=[D, H],\n",
    "           initializer=tf.contrib.layers.xavier_initializer())\n",
    "layer1 = tf.nn.relu(tf.matmul(observations,W1))\n",
    "W2 = tf.get_variable(\"W2\", shape=[H, 1],\n",
    "           initializer=tf.contrib.layers.xavier_initializer())\n",
    "score = tf.matmul(layer1,W2)\n",
    "probability = tf.nn.sigmoid(score)\n",
    "\n",
    "#From here we define the parts of the network needed for learning a good policy.\n",
    "tvars = tf.trainable_variables()\n",
    "input_y = tf.placeholder(tf.float32,[None,1], name=\"input_y\")\n",
    "advantages = tf.placeholder(tf.float32,name=\"reward_signal\")\n",
    "\n",
    "# The loss function. This sends the weights in the direction of making actions \n",
    "# that gave good advantage (reward over time) more likely, and actions that didn't less likely.\n",
    "loss = -tf.reduce_mean((tf.log(input_y - probability)) * advantages) \n",
    "newGrads = tf.gradients(loss,tvars)\n",
    "\n",
    "# Once we have collected a series of gradients from multiple episodes, we apply them.\n",
    "# We don't just apply gradeients after every episode in order to account for noise in the reward signal.\n",
    "adam = tf.train.AdamOptimizer(learning_rate=learning_rate) # Our optimizer\n",
    "W1Grad = tf.placeholder(tf.float32,name=\"batch_grad1\") # Placeholders to send the final gradients through when we update.\n",
    "W2Grad = tf.placeholder(tf.float32,name=\"batch_grad2\")\n",
    "batchGrad = [W1Grad,W2Grad]\n",
    "updateGrads = adam.apply_gradients(zip(batchGrad,tvars))"
   ]
  },
  {
   "cell_type": "markdown",
   "metadata": {},
   "source": [
    "### Advantage function\n",
    "This function allows us to weigh the rewards our agent recieves. In the context of the Cart-Pole task, we want actions that kept the pole in the air a long time to have a large reward, and actions that contributed to the pole falling to have a decreased or negative reward. We do this by weighing the rewards from the end of the episode, with actions at the end being seen as negative, since they likely contributed to the pole falling, and the episode ending. Likewise, early actions are seen as more positive, since they weren't responsible for the pole falling."
   ]
  },
  {
   "cell_type": "code",
   "execution_count": 6,
   "metadata": {
    "collapsed": true
   },
   "outputs": [],
   "source": [
    "def discount_rewards(r):\n",
    "    \"\"\" take 1D float array of rewards and compute discounted reward \"\"\"\n",
    "    discounted_r = np.zeros_like(r)\n",
    "    running_add = 0\n",
    "    for t in reversed(xrange(0, r.size)):\n",
    "        running_add = running_add * gamma + r[t]\n",
    "        discounted_r[t] = running_add\n",
    "    return discounted_r"
   ]
  },
  {
   "cell_type": "markdown",
   "metadata": {},
   "source": [
    "### Running the Agent and Environment"
   ]
  },
  {
   "cell_type": "markdown",
   "metadata": {},
   "source": [
    "Here we run the neural network agent, and have it act in the CartPole environment."
   ]
  },
  {
   "cell_type": "code",
   "execution_count": 8,
   "metadata": {
    "collapsed": false,
    "scrolled": true
   },
   "outputs": [
    {
     "name": "stdout",
     "output_type": "stream",
     "text": [
      "Average reward for episode 22.220000.  Total average reward 22.220000.\n",
      "Average reward for episode 18.420000.  Total average reward 22.182000.\n",
      "Average reward for episode 21.060000.  Total average reward 22.170780.\n",
      "Average reward for episode 21.240000.  Total average reward 22.161472.\n",
      "Average reward for episode 24.940000.  Total average reward 22.189257.\n",
      "Average reward for episode 21.720000.  Total average reward 22.184565.\n",
      "Average reward for episode 22.860000.  Total average reward 22.191319.\n",
      "Average reward for episode 27.420000.  Total average reward 22.243606.\n",
      "Average reward for episode 25.660000.  Total average reward 22.277770.\n",
      "Average reward for episode 26.160000.  Total average reward 22.316592.\n",
      "Average reward for episode 26.220000.  Total average reward 22.355626.\n",
      "Average reward for episode 25.620000.  Total average reward 22.388270.\n",
      "Average reward for episode 28.320000.  Total average reward 22.447587.\n",
      "Average reward for episode 27.880000.  Total average reward 22.501912.\n",
      "Average reward for episode 26.800000.  Total average reward 22.544892.\n",
      "Average reward for episode 35.120000.  Total average reward 22.670643.\n",
      "Average reward for episode 27.480000.  Total average reward 22.718737.\n",
      "Average reward for episode 30.960000.  Total average reward 22.801150.\n",
      "Average reward for episode 28.480000.  Total average reward 22.857938.\n",
      "Average reward for episode 30.320000.  Total average reward 22.932559.\n",
      "Average reward for episode 28.960000.  Total average reward 22.992833.\n",
      "Average reward for episode 29.680000.  Total average reward 23.059705.\n",
      "Average reward for episode 34.000000.  Total average reward 23.169108.\n",
      "Average reward for episode 35.280000.  Total average reward 23.290217.\n",
      "Average reward for episode 37.920000.  Total average reward 23.436515.\n",
      "Average reward for episode 34.040000.  Total average reward 23.542549.\n",
      "Average reward for episode 35.640000.  Total average reward 23.663524.\n",
      "Average reward for episode 31.940000.  Total average reward 23.746289.\n",
      "Average reward for episode 33.820000.  Total average reward 23.847026.\n",
      "Average reward for episode 38.200000.  Total average reward 23.990556.\n",
      "Average reward for episode 38.580000.  Total average reward 24.136450.\n",
      "Average reward for episode 37.860000.  Total average reward 24.273686.\n",
      "Average reward for episode 35.620000.  Total average reward 24.387149.\n",
      "Average reward for episode 37.360000.  Total average reward 24.516877.\n",
      "Average reward for episode 36.040000.  Total average reward 24.632108.\n",
      "Average reward for episode 45.620000.  Total average reward 24.841987.\n",
      "Average reward for episode 37.960000.  Total average reward 24.973167.\n",
      "Average reward for episode 41.360000.  Total average reward 25.137036.\n",
      "Average reward for episode 41.920000.  Total average reward 25.304865.\n",
      "Average reward for episode 42.920000.  Total average reward 25.481017.\n",
      "Average reward for episode 42.660000.  Total average reward 25.652807.\n",
      "Average reward for episode 45.020000.  Total average reward 25.846479.\n",
      "Average reward for episode 44.860000.  Total average reward 26.036614.\n",
      "Average reward for episode 48.080000.  Total average reward 26.257048.\n",
      "Average reward for episode 48.940000.  Total average reward 26.483877.\n",
      "Average reward for episode 44.000000.  Total average reward 26.659038.\n",
      "Average reward for episode 52.720000.  Total average reward 26.919648.\n",
      "Average reward for episode 44.360000.  Total average reward 27.094051.\n",
      "Average reward for episode 51.840000.  Total average reward 27.341511.\n",
      "Average reward for episode 49.760000.  Total average reward 27.565696.\n",
      "Average reward for episode 45.340000.  Total average reward 27.743439.\n",
      "Average reward for episode 58.980000.  Total average reward 28.055805.\n",
      "Average reward for episode 51.620000.  Total average reward 28.291446.\n",
      "Average reward for episode 53.400000.  Total average reward 28.542532.\n",
      "Average reward for episode 53.240000.  Total average reward 28.789507.\n",
      "Average reward for episode 58.600000.  Total average reward 29.087612.\n",
      "Average reward for episode 55.200000.  Total average reward 29.348736.\n",
      "Average reward for episode 57.560000.  Total average reward 29.630848.\n",
      "Average reward for episode 56.060000.  Total average reward 29.895140.\n",
      "Average reward for episode 56.520000.  Total average reward 30.161388.\n",
      "Average reward for episode 59.560000.  Total average reward 30.455374.\n",
      "Average reward for episode 55.520000.  Total average reward 30.706021.\n",
      "Average reward for episode 60.060000.  Total average reward 30.999560.\n",
      "Average reward for episode 60.820000.  Total average reward 31.297765.\n",
      "Average reward for episode 58.800000.  Total average reward 31.572787.\n",
      "Average reward for episode 66.560000.  Total average reward 31.922659.\n",
      "Average reward for episode 62.120000.  Total average reward 32.224633.\n",
      "Average reward for episode 78.940000.  Total average reward 32.691786.\n",
      "Average reward for episode 67.340000.  Total average reward 33.038269.\n",
      "Average reward for episode 76.360000.  Total average reward 33.471486.\n",
      "Average reward for episode 71.300000.  Total average reward 33.849771.\n",
      "Average reward for episode 70.100000.  Total average reward 34.212273.\n",
      "Average reward for episode 74.380000.  Total average reward 34.613951.\n",
      "Average reward for episode 70.320000.  Total average reward 34.971011.\n",
      "Average reward for episode 75.700000.  Total average reward 35.378301.\n",
      "Average reward for episode 85.360000.  Total average reward 35.878118.\n",
      "Average reward for episode 90.160000.  Total average reward 36.420937.\n",
      "Average reward for episode 99.200000.  Total average reward 37.048727.\n",
      "Average reward for episode 90.920000.  Total average reward 37.587440.\n",
      "Average reward for episode 103.080000.  Total average reward 38.242366.\n",
      "Average reward for episode 121.000000.  Total average reward 39.069942.\n",
      "Average reward for episode 93.400000.  Total average reward 39.613243."
     ]
    },
    {
     "name": "stderr",
     "output_type": "stream",
     "text": [
      "WARNING:gym.core:Observation '[-2.43782988 -2.20212479 -0.21713307 -0.28543834]' is not contained within observation space 'Box(4,)'.\n",
      "[2016-06-24 12:26:56,990] Observation '[-2.43782988 -2.20212479 -0.21713307 -0.28543834]' is not contained within observation space 'Box(4,)'.\n"
     ]
    },
    {
     "name": "stdout",
     "output_type": "stream",
     "text": [
      "\n",
      "Average reward for episode 106.820000.  Total average reward 40.285310.\n",
      "Average reward for episode 123.680000.  Total average reward 41.119257.\n",
      "Average reward for episode 120.000000.  Total average reward 41.908065.\n",
      "Average reward for episode 152.960000.  Total average reward 43.018584.\n",
      "Average reward for episode 170.440000.  Total average reward 44.292798.\n",
      "Average reward for episode 173.280000.  Total average reward 45.582670.\n",
      "Average reward for episode 176.640000.  Total average reward 46.893243.\n",
      "Average reward for episode 173.020000.  Total average reward 48.154511.\n",
      "Average reward for episode 178.420000.  Total average reward 49.457166.\n",
      "Average reward for episode 184.580000.  Total average reward 50.808394.\n",
      "Average reward for episode 180.340000.  Total average reward 52.103710.\n",
      "Average reward for episode 176.740000.  Total average reward 53.350073.\n",
      "Average reward for episode 214.840000.  Total average reward 54.964972.\n",
      "Task solved in 4750 episodes!\n",
      "4750 Episodes completed.\n"
     ]
    }
   ],
   "source": [
    "xs,hs,dlogps,drs,ys,tfps = [],[],[],[],[],[]\n",
    "running_reward = None\n",
    "reward_sum = 0\n",
    "episode_number = 1\n",
    "total_episodes = 10000\n",
    "init = tf.initialize_all_variables()\n",
    "\n",
    "# Launch the graph\n",
    "with tf.Session() as sess:\n",
    "    rendering = False\n",
    "    sess.run(init)\n",
    "    observation = env.reset() # Obtain an initial observation of the environment\n",
    "\n",
    "    # Reset the gradient placeholder. We will collect gradients in \n",
    "    # gradBuffer until we are ready to update our policy network. \n",
    "    gradBuffer = sess.run(tvars)\n",
    "    for ix,grad in enumerate(gradBuffer):\n",
    "        gradBuffer[ix] = grad * 0\n",
    "    \n",
    "    while episode_number <= total_episodes:\n",
    "        \n",
    "        # Rendering the environment slows things down, \n",
    "        # so let's only look at it once our agent is doing a good job.\n",
    "        if reward_sum/batch_size > 100 or rendering == True : \n",
    "            env.render()\n",
    "            rendering = True\n",
    "            \n",
    "        # Make sure the observation is in a shape the network can handle.\n",
    "        x = np.reshape(observation,[1,D])\n",
    "        \n",
    "        # Run the policy network and get an action to take. \n",
    "        tfprob = sess.run(probability,feed_dict={observations: x})\n",
    "        action = 1 if np.random.uniform() < tfprob else 0\n",
    "        \n",
    "        xs.append(x) # observation\n",
    "        y = 1 if action == 0 else 0 # a \"fake label\"\n",
    "        ys.append(y)\n",
    "\n",
    "        # step the environment and get new measurements\n",
    "        observation, reward, done, info = env.step(action)\n",
    "        reward_sum += reward\n",
    "\n",
    "        drs.append(reward) # record reward (has to be done after we call step() to get reward for previous action)\n",
    "\n",
    "        if done: \n",
    "            episode_number += 1\n",
    "            # stack together all inputs, hidden states, action gradients, and rewards for this episode\n",
    "            epx = np.vstack(xs)\n",
    "            epy = np.vstack(ys)\n",
    "            epr = np.vstack(drs)\n",
    "            tfp = tfps\n",
    "            xs,hs,dlogps,drs,ys,tfps = [],[],[],[],[],[] # reset array memory\n",
    "\n",
    "            # compute the discounted reward backwards through time\n",
    "            discounted_epr = discount_rewards(epr)\n",
    "            # size the rewards to be unit normal (helps control the gradient estimator variance)\n",
    "            discounted_epr -= np.mean(discounted_epr)\n",
    "            discounted_epr /= np.std(discounted_epr)\n",
    "            \n",
    "            # Get the gradient for this episode, and save it in the gradBuffer\n",
    "            tGrad = sess.run(newGrads,feed_dict={observations: epx, input_y: epy, advantages: discounted_epr})\n",
    "            for ix,grad in enumerate(tGrad):\n",
    "                gradBuffer[ix] += grad\n",
    "                \n",
    "            # If we have completed enough episodes, then update the policy network with our gradients.\n",
    "            if episode_number % batch_size == 0: \n",
    "                sess.run(updateGrads,feed_dict={W1Grad: gradBuffer[0],W2Grad:gradBuffer[1]})\n",
    "                for ix,grad in enumerate(gradBuffer):\n",
    "                    gradBuffer[ix] = grad * 0\n",
    "                \n",
    "                # Give a summary of how well our network is doing for each batch of episodes.\n",
    "                running_reward = reward_sum if running_reward is None else running_reward * 0.99 + reward_sum * 0.01\n",
    "                print 'Average reward for episode %f.  Total average reward %f.' % (reward_sum/batch_size, running_reward/batch_size)\n",
    "                \n",
    "                if reward_sum/batch_size > 200: \n",
    "                    print \"Task solved in\",episode_number,'episodes!'\n",
    "                    break\n",
    "                    \n",
    "                reward_sum = 0\n",
    "            \n",
    "            observation = env.reset()\n",
    "        \n",
    "print episode_number,'Episodes completed.'"
   ]
  },
  {
   "cell_type": "markdown",
   "metadata": {},
   "source": [
    "As you can see, the network not only does much better than random actions, but achieves the goal of 200 points per episode, thus solving the task!"
   ]
  }
 ],
 "metadata": {
  "kernelspec": {
   "display_name": "Python 2",
   "language": "python",
   "name": "python2"
  },
  "language_info": {
   "codemirror_mode": {
    "name": "ipython",
    "version": 2
   },
   "file_extension": ".py",
   "mimetype": "text/x-python",
   "name": "python",
   "nbconvert_exporter": "python",
   "pygments_lexer": "ipython2",
   "version": "2.7.11"
  }
 },
 "nbformat": 4,
 "nbformat_minor": 0
}
